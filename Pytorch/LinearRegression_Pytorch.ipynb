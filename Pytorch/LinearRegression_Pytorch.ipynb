{
 "cells": [
  {
   "cell_type": "code",
   "execution_count": 1,
   "id": "c39b94bc",
   "metadata": {},
   "outputs": [],
   "source": [
    "# 토치 식구들\n",
    "import torch\n",
    "import torch.nn as nn\n",
    "import torch.nn.functional as F\n",
    "\n",
    "# 넘파이는 가족이다\n",
    "import numpy as np\n",
    "\n",
    "# for문 진행현황을 멋있게 보는 방법\n",
    "from tqdm import tqdm\n",
    "\n",
    "# loss 추이 찍어볼 때 사용할 것이다.\n",
    "import matplotlib.pyplot as plt"
   ]
  },
  {
   "cell_type": "code",
   "execution_count": 2,
   "id": "947ebfdd",
   "metadata": {},
   "outputs": [],
   "source": [
    "# Hyperparameters\n",
    "\n",
    "num_epochs = 10\n",
    "lr = 0.00001"
   ]
  },
  {
   "cell_type": "code",
   "execution_count": 3,
   "id": "cd9671da",
   "metadata": {},
   "outputs": [
    {
     "data": {
      "text/plain": [
       "True"
      ]
     },
     "execution_count": 3,
     "metadata": {},
     "output_type": "execute_result"
    }
   ],
   "source": [
    "# GPU 체크\n",
    "torch.cuda.is_available()"
   ]
  },
  {
   "cell_type": "code",
   "execution_count": 4,
   "id": "6d32f2e7",
   "metadata": {},
   "outputs": [],
   "source": [
    "# GPU 있으면 GPU 씁시다\n",
    "device = torch.device('cuda' if torch.cuda.is_available()==True else 'cpu')"
   ]
  },
  {
   "cell_type": "code",
   "execution_count": 5,
   "id": "5aa9cee6",
   "metadata": {},
   "outputs": [],
   "source": [
    "# 데이터\n",
    "# (근무일 수, 얻은 총 피로량) \n",
    "# (100, 105), (125, 122), (150, 155), (190, 176), (206, 207)\n",
    "\n",
    "x = [100, 125, 150, 190, 206]\n",
    "y = [105, 122, 155, 176, 207]"
   ]
  },
  {
   "cell_type": "code",
   "execution_count": 6,
   "id": "9e5033f0",
   "metadata": {},
   "outputs": [],
   "source": [
    "# 주어진 데이터와 최대로 비슷한 상관 관계를 가장 잘 나타내는 y=Wx를 선형회귀로 추론하는 과정\n",
    "\n",
    "\n",
    "class Linear_Model(nn.Module):\n",
    "    def __init__(self):\n",
    "        super(Linear_Model, self).__init__()\n",
    "        \n",
    "        # Hidden Layer 없이 크기 1 Input 받아서 크기 1 Output을 출력\n",
    "        self.layer1 = nn.Linear(1,1, bias=False) # bias 없이 y=Wx를 추론하고 싶은 것\n",
    "\n",
    "    def forward(self, x):\n",
    "        out = self.layer1(x)\n",
    "        return out"
   ]
  },
  {
   "cell_type": "code",
   "execution_count": 7,
   "id": "fe915630",
   "metadata": {},
   "outputs": [],
   "source": [
    "# Loss Graph를 위해 epoch마다 cost를 append할 빈 리스트\n",
    "Loss_list = []"
   ]
  },
  {
   "cell_type": "code",
   "execution_count": 8,
   "id": "2afc16b0",
   "metadata": {},
   "outputs": [],
   "source": [
    "# 모델 정의 및 gpu에 할당\n",
    "model = Linear_Model().to(device)"
   ]
  },
  {
   "cell_type": "code",
   "execution_count": 9,
   "id": "46366dae",
   "metadata": {},
   "outputs": [],
   "source": [
    "# Optimizer 정의\n",
    "optimizer = torch.optim.SGD(model.parameters(), lr=lr)"
   ]
  },
  {
   "cell_type": "code",
   "execution_count": 10,
   "id": "f1c9091d",
   "metadata": {},
   "outputs": [],
   "source": [
    "# 데이터 Tensor화 및 gpu에 할당\n",
    "train_x = torch.Tensor(x).to(device)\n",
    "train_y = torch.Tensor(y).to(device)\n",
    "\n",
    "train_x = torch.reshape(train_x, (len(train_x), 1))\n",
    "train_y = torch.reshape(train_y, (len(train_y), 1))"
   ]
  },
  {
   "cell_type": "code",
   "execution_count": 11,
   "id": "ef0c5f94",
   "metadata": {},
   "outputs": [
    {
     "name": "stderr",
     "output_type": "stream",
     "text": [
      "\r",
      "  0%|                                                                                           | 0/10 [00:00<?, ?it/s]"
     ]
    }
   ],
   "source": [
    "# tqdm으로 progress 확인을 위해 tqdm 객체 생성\n",
    "num_e = tqdm(range(num_epochs))"
   ]
  },
  {
   "cell_type": "code",
   "execution_count": 12,
   "id": "a5403338",
   "metadata": {},
   "outputs": [
    {
     "name": "stderr",
     "output_type": "stream",
     "text": [
      "100%|██████████████████████████████████████████████████████████████████████████████████| 10/10 [00:01<00:00,  6.41it/s]"
     ]
    },
    {
     "name": "stdout",
     "output_type": "stream",
     "text": [
      "Epoch    0/10 Cost: 66668.929688\n",
      "Epoch    2/10 Cost: 3994.172607\n",
      "Epoch    4/10 Cost: 281.092285\n",
      "Epoch    6/10 Cost: 61.116055\n",
      "Epoch    8/10 Cost: 48.083794\n"
     ]
    },
    {
     "name": "stderr",
     "output_type": "stream",
     "text": [
      "\n"
     ]
    }
   ],
   "source": [
    "for epoch in num_e:\n",
    "    out = model(train_x)\n",
    "\n",
    "    cost = F.mse_loss(train_y, out).to(device)\n",
    "\n",
    "    Loss_list.append(cost.item())\n",
    "\n",
    "    # 학습\n",
    "    optimizer.zero_grad()\n",
    "    cost.backward()\n",
    "    optimizer.step()\n",
    "\n",
    "    if epoch % 2 == 0:\n",
    "    # 5번마다 로그 출력\n",
    "      print('Epoch {:4d}/{} Cost: {:.6f}'.format(\n",
    "          epoch, num_epochs, cost.item()\n",
    "      ))"
   ]
  },
  {
   "cell_type": "code",
   "execution_count": 13,
   "id": "0e11f991",
   "metadata": {},
   "outputs": [],
   "source": [
    "# tqdm 객체 닫음\n",
    "num_e.close()"
   ]
  },
  {
   "cell_type": "code",
   "execution_count": 14,
   "id": "90a6b4b8",
   "metadata": {},
   "outputs": [
    {
     "name": "stdout",
     "output_type": "stream",
     "text": [
      "Parameter containing:\n",
      "tensor([[0.9861]], device='cuda:0', requires_grad=True)\n"
     ]
    }
   ],
   "source": [
    "# Weight 확인\n",
    "for weight in model.parameters():\n",
    "    print(weight)"
   ]
  },
  {
   "cell_type": "code",
   "execution_count": 15,
   "id": "2684b3df",
   "metadata": {},
   "outputs": [
    {
     "data": {
      "image/png": "[encoded data removed]",
      "text/plain": [
       "<Figure size 640x480 with 1 Axes>"
      ]
     },
     "metadata": {},
     "output_type": "display_data"
    }
   ],
   "source": [
    "# loss graph 출력\n",
    "\n",
    "plt.plot(Loss_list[1:])\n",
    "plt.show()"
   ]
  },
  {
   "cell_type": "code",
   "execution_count": 16,
   "id": "5e2d030e",
   "metadata": {},
   "outputs": [
    {
     "name": "stdout",
     "output_type": "stream",
     "text": [
      "If 175 is the input, the output is: 172.57594299316406\n"
     ]
    }
   ],
   "source": [
    "# 테스트 데이터 넣어보기\n",
    "model.eval()\n",
    "a = np.array([[175]]) # model에 넣어줄 때는 (n, 1)꼴로 받아야하기 때문에\n",
    "print(\"If\", a[0, 0], \"is the input, the output is:\", model(torch.Tensor(a).to(device)).item())"
   ]
  },
  {
   "cell_type": "code",
   "execution_count": 17,
   "id": "cc8fa6a2",
   "metadata": {},
   "outputs": [
    {
     "data": {
      "image/png": "[encoded data removed]",
      "text/plain": [
       "<Figure size 640x480 with 1 Axes>"
      ]
     },
     "metadata": {},
     "output_type": "display_data"
    }
   ],
   "source": [
    "# y = Wx + b에 Sigmoid를 적용한 그래프 그려보기\n",
    "\n",
    "lista = list(range(95,210,1))\n",
    "lista = np.array(lista)\n",
    "\n",
    "plt.plot(lista, weight.item()*lista)\n",
    "plt.plot(x, y, 'ro')\n",
    "plt.show()"
   ]
  },
  {
   "cell_type": "code",
   "execution_count": null,
   "id": "9107a6ed",
   "metadata": {},
   "outputs": [],
   "source": []
  }
 ],
 "metadata": {
  "kernelspec": {
   "display_name": "Python 3 (ipykernel)",
   "language": "python",
   "name": "python3"
  },
  "language_info": {
   "codemirror_mode": {
    "name": "ipython",
    "version": 3
   },
   "file_extension": ".py",
   "mimetype": "text/x-python",
   "name": "python",
   "nbconvert_exporter": "python",
   "pygments_lexer": "ipython3",
   "version": "3.11.4"
  }
 },
 "nbformat": 4,
 "nbformat_minor": 5
}
