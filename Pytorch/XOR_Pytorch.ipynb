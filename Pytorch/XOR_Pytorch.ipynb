{
 "cells": [
  {
   "cell_type": "code",
   "execution_count": 2,
   "id": "17b21741",
   "metadata": {},
   "outputs": [],
   "source": [
    "# 토치 식구들\n",
    "import torch\n",
    "import torch.nn as nn\n",
    "import torch.nn.functional as F\n",
    "\n",
    "# 넘파이는 가족이다\n",
    "import numpy as np\n",
    "\n",
    "# 각종 그래프 찍어볼 때 사용할 것이다.\n",
    "import matplotlib.pyplot as plt\n",
    "\n",
    "# GPU 쓸 수 있으면 쓰자\n",
    "device = torch.device('cuda' if torch.cuda.is_available()==True else 'cpu')"
   ]
  },
  {
   "cell_type": "code",
   "execution_count": 3,
   "id": "2aa53eaf",
   "metadata": {},
   "outputs": [],
   "source": [
    "# xor 데이터\n",
    "X = [[0, 0], [0, 1], [1, 0], [1, 1]]\n",
    "Y = [[0], [1], [1], [0]]"
   ]
  },
  {
   "cell_type": "code",
   "execution_count": 4,
   "id": "c146d646",
   "metadata": {},
   "outputs": [],
   "source": [
    "class XOR_model(nn.Module):\n",
    "    def __init__(self):\n",
    "        super(XOR_model, self).__init__()\n",
    "\n",
    "        self.layer = nn.Sequential(\n",
    "            nn.Linear(2, 4, bias=True),\n",
    "            nn.Sigmoid(),\n",
    "            nn.Linear(4, 4, bias=True),\n",
    "            nn.Sigmoid(),\n",
    "            nn.Linear(4, 1, bias=True),\n",
    "            nn.Sigmoid()\n",
    "        )\n",
    "    \n",
    "    def forward(self, x):\n",
    "        out = self.layer(x)\n",
    "        return out"
   ]
  },
  {
   "cell_type": "code",
   "execution_count": 5,
   "id": "b82ccafa",
   "metadata": {},
   "outputs": [],
   "source": [
    "model = XOR_model().to(device)\n"
   ]
  },
  {
   "cell_type": "code",
   "execution_count": 6,
   "id": "6d2813ef",
   "metadata": {},
   "outputs": [],
   "source": [
    "X_data = torch.Tensor(X).to(device)\n",
    "Y_data = torch.Tensor(Y).to(device)"
   ]
  },
  {
   "cell_type": "code",
   "execution_count": 7,
   "id": "ecda8894",
   "metadata": {},
   "outputs": [],
   "source": [
    "criterion = nn.BCELoss()\n",
    "\n",
    "optimizer = torch.optim.SGD(model.parameters(), lr=1)"
   ]
  },
  {
   "cell_type": "code",
   "execution_count": null,
   "id": "e42d6776",
   "metadata": {},
   "outputs": [],
   "source": [
    "epochs = 5000\n",
    "for epoch in range(epochs):\n",
    "    X_out = model(X_data)\n",
    "\n",
    "    cost = criterion(X_out, Y_data)\n",
    "\n",
    "    optimizer.zero_grad()\n",
    "    cost.backward()\n",
    "    optimizer.step()\n",
    "\n",
    "    if epoch % 500 == 499:\n",
    "        print(\"Epoch:\", epoch+1, '{:.4f}'.format(cost.item()))\n",
    "\n",
    "print(model(X_data).detach().cpu().numpy())"
   ]
  },
  {
   "cell_type": "code",
   "execution_count": null,
   "id": "329531d9",
   "metadata": {},
   "outputs": [],
   "source": []
  }
 ],
 "metadata": {
  "kernelspec": {
   "display_name": "Python 3 (ipykernel)",
   "language": "python",
   "name": "python3"
  },
  "language_info": {
   "codemirror_mode": {
    "name": "ipython",
    "version": 3
   },
   "file_extension": ".py",
   "mimetype": "text/x-python",
   "name": "python",
   "nbconvert_exporter": "python",
   "pygments_lexer": "ipython3",
   "version": "3.11.4"
  }
 },
 "nbformat": 4,
 "nbformat_minor": 5
}
