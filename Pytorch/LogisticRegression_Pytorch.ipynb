{
 "cells": [
  {
   "cell_type": "code",
   "execution_count": 1,
   "id": "0f00f8cb",
   "metadata": {},
   "outputs": [],
   "source": [
    "# 토치 식구들\n",
    "import torch\n",
    "import torch.nn as nn\n",
    "import torch.nn.functional as F\n",
    "\n",
    "# 넘파이는 가족이다\n",
    "import numpy as np\n",
    "\n",
    "# for문 진행현황을 멋있게 보는 방법\n",
    "from tqdm import tqdm\n",
    "\n",
    "# loss 추이 등 그래프를 찍어볼 때 사용할 것이다.\n",
    "import matplotlib.pyplot as plt"
   ]
  },
  {
   "cell_type": "code",
   "execution_count": 2,
   "id": "f230983a",
   "metadata": {},
   "outputs": [],
   "source": [
    "# Hyperparameters\n",
    "# 해당 예시 코드의 경우 사용한 데이터 예시가 Sigmoid로 끼워넣기에 빡빡한 모양새를 가지고 있어서\n",
    "# LR을 좀 작게 설정하고 num_epoch을 늘렸다\n",
    "num_epochs = 20000\n",
    "lr = 0.003"
   ]
  },
  {
   "cell_type": "code",
   "execution_count": 3,
   "id": "71068509",
   "metadata": {},
   "outputs": [
    {
     "data": {
      "text/plain": [
       "True"
      ]
     },
     "execution_count": 3,
     "metadata": {},
     "output_type": "execute_result"
    }
   ],
   "source": [
    "# GPU 체크\n",
    "torch.cuda.is_available()"
   ]
  },
  {
   "cell_type": "code",
   "execution_count": 4,
   "id": "7ee1f05f",
   "metadata": {},
   "outputs": [],
   "source": [
    "# GPU 있으면 GPU 씁시다\n",
    "device = torch.device('cuda' if torch.cuda.is_available()==True else 'cpu')"
   ]
  },
  {
   "cell_type": "code",
   "execution_count": 5,
   "id": "5a9068ca",
   "metadata": {},
   "outputs": [],
   "source": [
    "# 데이터\n",
    "# (종합 점수, 합격 여부) -> 0이면 불합격, 1이면 합격\n",
    "# (15, 0 ), (24, 0), (57, 0), (78, 1) (90, 1), (114, 1)\n",
    "\n",
    "x = [15, 24, 57, 78, 90, 114]\n",
    "y = [0, 0, 0, 1, 1, 1]\n",
    "\n",
    "# 데이터 Tensor화 및 gpu에 할당\n",
    "train_x = torch.Tensor(x).to(device)\n",
    "train_y = torch.Tensor(y).to(device)\n",
    "\n",
    "# (n, 1) 꼴로 바꿔주자 \n",
    "train_x = torch.reshape(train_x, (len(train_x), 1))\n",
    "train_y = torch.reshape(train_y, (len(train_y), 1))"
   ]
  },
  {
   "cell_type": "code",
   "execution_count": 6,
   "id": "655dba56",
   "metadata": {},
   "outputs": [],
   "source": [
    "# 주어진 데이터와 최대로 비슷한 상관 관계를 가장 잘 나타내는 y=Wx+b에 sigmoid를 씌운 형태의 함수를 추론하는 과정\n",
    "\n",
    "\n",
    "class Logistic_Model(nn.Module):\n",
    "    def __init__(self):\n",
    "        super(Logistic_Model, self).__init__()\n",
    "        \n",
    "        # Hidden Layer 없이 크기 1 Input 받아서 크기 1 Output을 출력\n",
    "        self.layer1 = nn.Sequential(nn.Linear(1,1),\n",
    "                                     nn.Sigmoid())\n",
    "        \n",
    "\n",
    "    def forward(self, x):\n",
    "        out = self.layer1(x)\n",
    "        return out"
   ]
  },
  {
   "cell_type": "code",
   "execution_count": 7,
   "id": "4043e919",
   "metadata": {},
   "outputs": [],
   "source": [
    "# Loss Graph를 위해 epoch마다 cost를 append할 빈 리스트\n",
    "Loss_list = []"
   ]
  },
  {
   "cell_type": "code",
   "execution_count": 8,
   "id": "905e260c",
   "metadata": {},
   "outputs": [],
   "source": [
    "# 모델 정의 및 gpu에 할당\n",
    "model = Logistic_Model().to(device)"
   ]
  },
  {
   "cell_type": "code",
   "execution_count": 9,
   "id": "c7840495",
   "metadata": {},
   "outputs": [],
   "source": [
    "# Loss 함수 정의\n",
    "criterion = nn.BCELoss().to(device)"
   ]
  },
  {
   "cell_type": "code",
   "execution_count": 10,
   "id": "2a39a7fa",
   "metadata": {},
   "outputs": [],
   "source": [
    "# Optimizer 정의\n",
    "optimizer = torch.optim.SGD(model.parameters(), lr=lr)"
   ]
  },
  {
   "cell_type": "code",
   "execution_count": 11,
   "id": "73e151da",
   "metadata": {},
   "outputs": [
    {
     "name": "stderr",
     "output_type": "stream",
     "text": [
      "\r",
      "  0%|                                                                                        | 0/20000 [00:00<?, ?it/s]"
     ]
    }
   ],
   "source": [
    "# tqdm으로 progress 확인을 위해 tqdm 객체 생성\n",
    "num_e = tqdm(range(num_epochs))"
   ]
  },
  {
   "cell_type": "code",
   "execution_count": 12,
   "id": "0a4f70d7",
   "metadata": {},
   "outputs": [
    {
     "name": "stderr",
     "output_type": "stream",
     "text": [
      "  6%|████▊                                                                      | 1272/20000 [00:02<00:14, 1331.42it/s]"
     ]
    },
    {
     "name": "stdout",
     "output_type": "stream",
     "text": [
      "tensor([[0.5939],\n",
      "        [0.6672],\n",
      "        [0.8644],\n",
      "        [0.9301],\n",
      "        [0.9530],\n",
      "        [0.9792]], device='cuda:0', grad_fn=<SigmoidBackward0>)\n",
      "Epoch 1000/20000 Cost: 0.690145\n"
     ]
    },
    {
     "name": "stderr",
     "output_type": "stream",
     "text": [
      " 12%|████████▊                                                                  | 2335/20000 [00:02<00:08, 1966.90it/s]"
     ]
    },
    {
     "name": "stdout",
     "output_type": "stream",
     "text": [
      "tensor([[0.4872],\n",
      "        [0.5812],\n",
      "        [0.8478],\n",
      "        [0.9310],\n",
      "        [0.9572],\n",
      "        [0.9840]], device='cuda:0', grad_fn=<SigmoidBackward0>)\n",
      "Epoch 2000/20000 Cost: 0.592007\n"
     ]
    },
    {
     "name": "stderr",
     "output_type": "stream",
     "text": [
      " 17%|████████████▊                                                              | 3401/20000 [00:03<00:08, 2067.71it/s]"
     ]
    },
    {
     "name": "stdout",
     "output_type": "stream",
     "text": [
      "tensor([[0.3840],\n",
      "        [0.4812],\n",
      "        [0.7992],\n",
      "        [0.9096],\n",
      "        [0.9447],\n",
      "        [0.9801]], device='cuda:0', grad_fn=<SigmoidBackward0>)\n",
      "Epoch 3000/20000 Cost: 0.486336\n"
     ]
    },
    {
     "name": "stderr",
     "output_type": "stream",
     "text": [
      " 21%|███████████████▉                                                           | 4258/20000 [00:03<00:07, 2104.09it/s]"
     ]
    },
    {
     "name": "stdout",
     "output_type": "stream",
     "text": [
      "tensor([[0.3016],\n",
      "        [0.3932],\n",
      "        [0.7416],\n",
      "        [0.8809],\n",
      "        [0.9270],\n",
      "        [0.9740]], device='cuda:0', grad_fn=<SigmoidBackward0>)\n",
      "Epoch 4000/20000 Cost: 0.406736\n"
     ]
    },
    {
     "name": "stderr",
     "output_type": "stream",
     "text": [
      " 27%|███████████████████▉                                                       | 5332/20000 [00:04<00:07, 2094.44it/s]"
     ]
    },
    {
     "name": "stdout",
     "output_type": "stream",
     "text": [
      "tensor([[0.2369],\n",
      "        [0.3172],\n",
      "        [0.6706],\n",
      "        [0.8391],\n",
      "        [0.8992],\n",
      "        [0.9632]], device='cuda:0', grad_fn=<SigmoidBackward0>)\n",
      "Epoch 5000/20000 Cost: 0.346958\n"
     ]
    },
    {
     "name": "stderr",
     "output_type": "stream",
     "text": [
      " 32%|███████████████████████▉                                                   | 6388/20000 [00:04<00:06, 2088.50it/s]"
     ]
    },
    {
     "name": "stdout",
     "output_type": "stream",
     "text": [
      "tensor([[0.1834],\n",
      "        [0.2467],\n",
      "        [0.5663],\n",
      "        [0.7590],\n",
      "        [0.8389],\n",
      "        [0.9344]], device='cuda:0', grad_fn=<SigmoidBackward0>)\n",
      "Epoch 6000/20000 Cost: 0.306789\n"
     ]
    },
    {
     "name": "stderr",
     "output_type": "stream",
     "text": [
      " 36%|███████████████████████████▏                                               | 7248/20000 [00:04<00:05, 2134.10it/s]"
     ]
    },
    {
     "name": "stdout",
     "output_type": "stream",
     "text": [
      "tensor([[0.1555],\n",
      "        [0.2167],\n",
      "        [0.5523],\n",
      "        [0.7616],\n",
      "        [0.8462],\n",
      "        [0.9422]], device='cuda:0', grad_fn=<SigmoidBackward0>)\n",
      "Epoch 7000/20000 Cost: 0.285973\n"
     ]
    },
    {
     "name": "stderr",
     "output_type": "stream",
     "text": [
      " 42%|███████████████████████████████▏                                           | 8307/20000 [00:05<00:05, 2090.38it/s]"
     ]
    },
    {
     "name": "stdout",
     "output_type": "stream",
     "text": [
      "tensor([[0.1333],\n",
      "        [0.1921],\n",
      "        [0.5403],\n",
      "        [0.7646],\n",
      "        [0.8531],\n",
      "        [0.9489]], device='cuda:0', grad_fn=<SigmoidBackward0>)\n",
      "Epoch 8000/20000 Cost: 0.268876\n"
     ]
    },
    {
     "name": "stderr",
     "output_type": "stream",
     "text": [
      " 47%|███████████████████████████████████▏                                       | 9389/20000 [00:05<00:04, 2158.60it/s]"
     ]
    },
    {
     "name": "stdout",
     "output_type": "stream",
     "text": [
      "tensor([[0.1154],\n",
      "        [0.1715],\n",
      "        [0.5292],\n",
      "        [0.7674],\n",
      "        [0.8592],\n",
      "        [0.9543]], device='cuda:0', grad_fn=<SigmoidBackward0>)\n",
      "Epoch 9000/20000 Cost: 0.254570\n"
     ]
    },
    {
     "name": "stderr",
     "output_type": "stream",
     "text": [
      " 51%|█████████████████████████████████████▉                                    | 10252/20000 [00:06<00:04, 2118.98it/s]"
     ]
    },
    {
     "name": "stdout",
     "output_type": "stream",
     "text": [
      "tensor([[0.1009],\n",
      "        [0.1541],\n",
      "        [0.5191],\n",
      "        [0.7700],\n",
      "        [0.8647],\n",
      "        [0.9589]], device='cuda:0', grad_fn=<SigmoidBackward0>)\n",
      "Epoch 10000/20000 Cost: 0.242402\n"
     ]
    },
    {
     "name": "stderr",
     "output_type": "stream",
     "text": [
      " 57%|█████████████████████████████████████████▉                                | 11319/20000 [00:06<00:04, 2121.67it/s]"
     ]
    },
    {
     "name": "stdout",
     "output_type": "stream",
     "text": [
      "tensor([[0.0888],\n",
      "        [0.1393],\n",
      "        [0.5096],\n",
      "        [0.7724],\n",
      "        [0.8697],\n",
      "        [0.9627]], device='cuda:0', grad_fn=<SigmoidBackward0>)\n",
      "Epoch 11000/20000 Cost: 0.231907\n"
     ]
    },
    {
     "name": "stderr",
     "output_type": "stream",
     "text": [
      " 62%|█████████████████████████████████████████████▌                            | 12309/20000 [00:07<00:04, 1850.58it/s]"
     ]
    },
    {
     "name": "stdout",
     "output_type": "stream",
     "text": [
      "tensor([[0.0787],\n",
      "        [0.1265],\n",
      "        [0.5009],\n",
      "        [0.7747],\n",
      "        [0.8742],\n",
      "        [0.9660]], device='cuda:0', grad_fn=<SigmoidBackward0>)\n",
      "Epoch 12000/20000 Cost: 0.222742\n"
     ]
    },
    {
     "name": "stderr",
     "output_type": "stream",
     "text": [
      " 66%|████████████████████████████████████████████████▊                         | 13204/20000 [00:07<00:04, 1615.33it/s]"
     ]
    },
    {
     "name": "stdout",
     "output_type": "stream",
     "text": [
      "tensor([[0.0702],\n",
      "        [0.1155],\n",
      "        [0.4926],\n",
      "        [0.7768],\n",
      "        [0.8784],\n",
      "        [0.9688]], device='cuda:0', grad_fn=<SigmoidBackward0>)\n",
      "Epoch 13000/20000 Cost: 0.214654\n"
     ]
    },
    {
     "name": "stderr",
     "output_type": "stream",
     "text": [
      " 71%|████████████████████████████████████████████████████▋                     | 14244/20000 [00:08<00:03, 1667.35it/s]"
     ]
    },
    {
     "name": "stdout",
     "output_type": "stream",
     "text": [
      "tensor([[0.0630],\n",
      "        [0.1058],\n",
      "        [0.4849],\n",
      "        [0.7789],\n",
      "        [0.8822],\n",
      "        [0.9713]], device='cuda:0', grad_fn=<SigmoidBackward0>)\n",
      "Epoch 14000/20000 Cost: 0.207447\n"
     ]
    },
    {
     "name": "stderr",
     "output_type": "stream",
     "text": [
      " 76%|████████████████████████████████████████████████████████▌                 | 15281/20000 [00:09<00:02, 1658.02it/s]"
     ]
    },
    {
     "name": "stdout",
     "output_type": "stream",
     "text": [
      "tensor([[0.0568],\n",
      "        [0.0973],\n",
      "        [0.4776],\n",
      "        [0.7808],\n",
      "        [0.8857],\n",
      "        [0.9735]], device='cuda:0', grad_fn=<SigmoidBackward0>)\n",
      "Epoch 15000/20000 Cost: 0.200973\n"
     ]
    },
    {
     "name": "stderr",
     "output_type": "stream",
     "text": [
      " 81%|███████████████████████████████████████████████████████████▊              | 16173/20000 [00:09<00:02, 1762.54it/s]"
     ]
    },
    {
     "name": "stdout",
     "output_type": "stream",
     "text": [
      "tensor([[0.0514],\n",
      "        [0.0898],\n",
      "        [0.4706],\n",
      "        [0.7826],\n",
      "        [0.8890],\n",
      "        [0.9754]], device='cuda:0', grad_fn=<SigmoidBackward0>)\n",
      "Epoch 16000/20000 Cost: 0.195114\n"
     ]
    },
    {
     "name": "stderr",
     "output_type": "stream",
     "text": [
      " 86%|███████████████████████████████████████████████████████████████▋          | 17217/20000 [00:10<00:01, 1706.89it/s]"
     ]
    },
    {
     "name": "stdout",
     "output_type": "stream",
     "text": [
      "tensor([[0.0467],\n",
      "        [0.0832],\n",
      "        [0.4640],\n",
      "        [0.7844],\n",
      "        [0.8920],\n",
      "        [0.9771]], device='cuda:0', grad_fn=<SigmoidBackward0>)\n",
      "Epoch 17000/20000 Cost: 0.189777\n"
     ]
    },
    {
     "name": "stderr",
     "output_type": "stream",
     "text": [
      " 91%|███████████████████████████████████████████████████████████████████▍      | 18219/20000 [00:10<00:01, 1611.03it/s]"
     ]
    },
    {
     "name": "stdout",
     "output_type": "stream",
     "text": [
      "tensor([[0.0426],\n",
      "        [0.0772],\n",
      "        [0.4577],\n",
      "        [0.7861],\n",
      "        [0.8949],\n",
      "        [0.9786]], device='cuda:0', grad_fn=<SigmoidBackward0>)\n",
      "Epoch 18000/20000 Cost: 0.184888\n"
     ]
    },
    {
     "name": "stderr",
     "output_type": "stream",
     "text": [
      " 96%|███████████████████████████████████████████████████████████████████████▏  | 19254/20000 [00:11<00:00, 1607.51it/s]"
     ]
    },
    {
     "name": "stdout",
     "output_type": "stream",
     "text": [
      "tensor([[0.0390],\n",
      "        [0.0719],\n",
      "        [0.4517],\n",
      "        [0.7877],\n",
      "        [0.8976],\n",
      "        [0.9800]], device='cuda:0', grad_fn=<SigmoidBackward0>)\n",
      "Epoch 19000/20000 Cost: 0.180385\n"
     ]
    },
    {
     "name": "stderr",
     "output_type": "stream",
     "text": [
      "100%|██████████████████████████████████████████████████████████████████████████| 20000/20000 [00:12<00:00, 1661.08it/s]"
     ]
    },
    {
     "name": "stdout",
     "output_type": "stream",
     "text": [
      "tensor([[0.0359],\n",
      "        [0.0671],\n",
      "        [0.4460],\n",
      "        [0.7892],\n",
      "        [0.9001],\n",
      "        [0.9812]], device='cuda:0', grad_fn=<SigmoidBackward0>)\n",
      "Epoch 20000/20000 Cost: 0.176217\n"
     ]
    },
    {
     "name": "stderr",
     "output_type": "stream",
     "text": [
      "\n"
     ]
    }
   ],
   "source": [
    "for epoch in num_e:\n",
    "    out_ = model(train_x)\n",
    "\n",
    "#     cost = criterion(train_y, out).to(device)\n",
    "    cost = F.binary_cross_entropy(out_, train_y).to(device)\n",
    "    \n",
    "    Loss_list.append(cost.item())\n",
    "\n",
    "    # 학습\n",
    "    optimizer.zero_grad()\n",
    "    cost.backward()\n",
    "    optimizer.step()\n",
    "\n",
    "    if epoch % 1000 == 999:\n",
    "    # 10번마다 로그 출력\n",
    "      print(out_)\n",
    "      print('Epoch {:4d}/{} Cost: {:.6f}'.format(\n",
    "          epoch+1, num_epochs, cost.item()\n",
    "      ))\n"
   ]
  },
  {
   "cell_type": "code",
   "execution_count": 13,
   "id": "6ce5fa72",
   "metadata": {},
   "outputs": [],
   "source": [
    "num_e.close()"
   ]
  },
  {
   "cell_type": "code",
   "execution_count": 14,
   "id": "4bfcb855",
   "metadata": {},
   "outputs": [
    {
     "name": "stdout",
     "output_type": "stream",
     "text": [
      "Parameter containing:\n",
      "tensor([[0.0732]], device='cuda:0', requires_grad=True)\n",
      "Parameter containing:\n",
      "tensor([-4.3899], device='cuda:0', requires_grad=True)\n"
     ]
    }
   ],
   "source": [
    "# Weight 확인\n",
    "for weight in model.parameters():\n",
    "    print(weight)"
   ]
  },
  {
   "cell_type": "code",
   "execution_count": 15,
   "id": "649017c3",
   "metadata": {},
   "outputs": [
    {
     "data": {
      "image/png": "[encoded data removed]",
      "text/plain": [
       "<Figure size 640x480 with 1 Axes>"
      ]
     },
     "metadata": {},
     "output_type": "display_data"
    }
   ],
   "source": [
    "# loss graph 출력\n",
    "\n",
    "plt.plot(Loss_list[1:])\n",
    "plt.show()"
   ]
  },
  {
   "cell_type": "markdown",
   "id": "99c3b73d",
   "metadata": {},
   "source": [
    "## 10000번째 에폭을 보면 3번째 인덱스(out_[2])는 0.5가 넘는 것을 볼 수 있다.\n",
    "tensor([[0.1009],\n",
    "        [0.1541],\n",
    "        [0.5191],\n",
    "        [0.7700],\n",
    "        [0.8647],\n",
    "        [0.9589]], device='cuda:0', grad_fn=<SigmoidBackward0>)\n",
    "Epoch 10000/20000 Cost: 0.242402\n",
    "    \n",
    "여기서 Loss는 거의 바로 수렴한 것을 볼 수 있었지만 \n",
    "꼭 Sigmoid에 끼워서 맞추려면 10000보다는 많은 에폭이 필요하다는 것을 알 수 있다.\n",
    "Overfitting이 될 수 있음"
   ]
  },
  {
   "cell_type": "code",
   "execution_count": 16,
   "id": "78e8cafb",
   "metadata": {},
   "outputs": [
    {
     "name": "stdout",
     "output_type": "stream",
     "text": [
      "If 66 is the input, the output is: 1\n"
     ]
    }
   ],
   "source": [
    "# 테스트 데이터 넣어보기\n",
    "model.eval()\n",
    "a = np.array([[66]]) # model에 넣어줄 때는 (n, 1)꼴로 받아야하기 때문에\n",
    "result = model(torch.Tensor(a).to(device)).item()\n",
    "if result >= 0.5:\n",
    "    result_ = 1\n",
    "elif result < 0.5:\n",
    "    result_ = 0\n",
    "else:\n",
    "    print(\"ERROR\")\n",
    "    \n",
    "print(\"If\", a[0, 0], \"is the input, the output is:\", result_)"
   ]
  },
  {
   "cell_type": "code",
   "execution_count": 23,
   "id": "4a0f22f7",
   "metadata": {},
   "outputs": [
    {
     "data": {
      "image/png": "[encoded data removed]",
      "text/plain": [
       "<Figure size 640x480 with 1 Axes>"
      ]
     },
     "metadata": {},
     "output_type": "display_data"
    }
   ],
   "source": [
    "# y = Wx + b에 Sigmoid를 적용한 그래프 그려보기\n",
    "\n",
    "# y = Wx + b에 Sigmoid를 적용한 그래프 그려보기\n",
    "\n",
    "lista = list(range(0,120,1))\n",
    "lista = np.array(lista)\n",
    "lista = np.reshape(lista, (len(lista), 1))\n",
    "\n",
    "plt.plot(lista, model(torch.Tensor(lista).to(device)).detach().cpu().numpy())\n",
    "plt.plot(x, y, 'ro')\n",
    "plt.plot(lista, 1/2*np.ones(len(lista)), 'g--')\n",
    "plt.show()"
   ]
  },
  {
   "cell_type": "code",
   "execution_count": null,
   "id": "d28e7b34",
   "metadata": {},
   "outputs": [],
   "source": []
  }
 ],
 "metadata": {
  "kernelspec": {
   "display_name": "Python 3 (ipykernel)",
   "language": "python",
   "name": "python3"
  },
  "language_info": {
   "codemirror_mode": {
    "name": "ipython",
    "version": 3
   },
   "file_extension": ".py",
   "mimetype": "text/x-python",
   "name": "python",
   "nbconvert_exporter": "python",
   "pygments_lexer": "ipython3",
   "version": "3.11.4"
  }
 },
 "nbformat": 4,
 "nbformat_minor": 5
}
