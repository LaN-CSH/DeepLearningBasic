{
 "cells": [
  {
   "cell_type": "code",
   "execution_count": 1,
   "id": "6c50127f",
   "metadata": {},
   "outputs": [],
   "source": [
    "# 토치 식구들\n",
    "import torch\n",
    "import torch.nn as nn\n",
    "import torch.nn.functional as F\n",
    "\n",
    "\n",
    "# 넘파이는 가족이다\n",
    "import numpy as np\n",
    "\n",
    "# 각종 그래프 찍어볼 때 사용할 것이다.\n",
    "import matplotlib.pyplot as plt\n",
    "\n",
    "# GPU 쓸 수 있으면 쓰자\n",
    "device = torch.device('cuda' if torch.cuda.is_available()==True else 'cpu')\n"
   ]
  },
  {
   "cell_type": "code",
   "execution_count": 2,
   "id": "ffcc82ce",
   "metadata": {},
   "outputs": [
    {
     "name": "stdout",
     "output_type": "stream",
     "text": [
      "torch.Size([60000, 784])\n",
      "torch.Size([60000, 1])\n",
      "torch.Size([10000, 784])\n",
      "torch.Size([10000, 1])\n"
     ]
    }
   ],
   "source": [
    "# 데이터 불러오기\n",
    "train = np.loadtxt(\"mnist_train.csv\", delimiter=',', dtype=float)\n",
    "test = np.loadtxt(\"mnist_test.csv\", delimiter=',', dtype=float)\n",
    "\n",
    "train_X = torch.FloatTensor(train[:, 1:])\n",
    "train_Y = torch.FloatTensor(train[:, :1])\n",
    "test_X = torch.FloatTensor(test[:, 1:])\n",
    "test_Y = torch.FloatTensor(test[:, :1])\n",
    "\n",
    "print(train_X.shape)\n",
    "print(train_Y.shape)\n",
    "\n",
    "print(test_X.shape)\n",
    "print(test_Y.shape)"
   ]
  },
  {
   "cell_type": "code",
   "execution_count": 3,
   "id": "51e92744",
   "metadata": {},
   "outputs": [],
   "source": [
    "# Y를 One-hot으로 바꿔준다\n",
    "Y_one_hot_ = torch.squeeze(F.one_hot(train_Y.to(torch.int64), num_classes=10))\n",
    "Y_one_hot_test = torch.squeeze(F.one_hot(test_Y.to(torch.int64), num_classes=10))"
   ]
  },
  {
   "cell_type": "code",
   "execution_count": 4,
   "id": "64d572fb",
   "metadata": {},
   "outputs": [],
   "source": [
    "# MNIST 분류모델 구성\n",
    "model = nn.Sequential(\n",
    "    nn.Linear(28*28, 64),\n",
    "    nn.ReLU(),\n",
    "    nn.Linear(64, 32),\n",
    "    nn.ReLU(),\n",
    "    nn.Linear(32, 16),\n",
    "    nn.ReLU(),\n",
    "    nn.Linear(16, 10),\n",
    "    nn.Softmax()\n",
    ")\n"
   ]
  },
  {
   "cell_type": "code",
   "execution_count": 5,
   "id": "08d6a4a4",
   "metadata": {},
   "outputs": [],
   "source": [
    "# Loss, Optimizer\n",
    "loss_fn = nn.CrossEntropyLoss()\n",
    "optimizer = torch.optim.Adam(model.parameters(), lr=0.002)"
   ]
  },
  {
   "cell_type": "code",
   "execution_count": 6,
   "id": "99cf50f6",
   "metadata": {},
   "outputs": [
    {
     "name": "stderr",
     "output_type": "stream",
     "text": [
      "C:\\Users\\danie\\anaconda3\\envs\\csh\\Lib\\site-packages\\torch\\nn\\modules\\container.py:217: UserWarning: Implicit dimension choice for softmax has been deprecated. Change the call to include dim=X as an argument.\n",
      "  input = module(input)\n"
     ]
    },
    {
     "name": "stdout",
     "output_type": "stream",
     "text": [
      "epoch50 LOSS：1.5767327547073364\n",
      "epoch100 LOSS：1.5663315057754517\n",
      "epoch150 LOSS：1.4805481433868408\n",
      "epoch200 LOSS：1.4689695835113525\n",
      "epoch250 LOSS：1.4682466983795166\n",
      "epoch300 LOSS：1.4661779403686523\n",
      "epoch350 LOSS：1.4661260843276978\n",
      "epoch400 LOSS：1.4658095836639404\n",
      "epoch450 LOSS：1.4658191204071045\n",
      "epoch500 LOSS：1.4663362503051758\n"
     ]
    }
   ],
   "source": [
    "n_ephocs = 500\n",
    "batch_size = 3000\n",
    "\n",
    "train_X = train_X/255\n",
    "\n",
    "for i in range(n_ephocs):\n",
    "  for j in range(int(len(train_X)/batch_size)):\n",
    "     outputs = model(train_X[(j*batch_size):((j+1)*batch_size), :])\n",
    "     loss = loss_fn(outputs, Y_one_hot_[(j*batch_size):((j+1)*batch_size), :].to(torch.float32))\n",
    "     #print(outputs[:5], torch.squeeze(Y_one_hot_[(j*batch_size):((j+1)*batch_size), :]).to(torch.float32)[:5])\n",
    "\n",
    "     optimizer.zero_grad()\n",
    "     loss.backward()\n",
    "     optimizer.step()\n",
    "  if (i+1)%50 == 0:\n",
    "    print(\"epoch{0} LOSS：{1}\".format(i+1, loss.item()))"
   ]
  },
  {
   "cell_type": "code",
   "execution_count": 7,
   "id": "166b6980",
   "metadata": {},
   "outputs": [
    {
     "name": "stdout",
     "output_type": "stream",
     "text": [
      "tensor([7, 2, 1, 0, 4], dtype=torch.int32)\n",
      "tensor([7, 2, 1, 0, 4], dtype=torch.int32)\n"
     ]
    }
   ],
   "source": [
    "# 모델로 5개만 찍어보기\n",
    "model.eval()\n",
    "test_X = test_X/255\n",
    "predict = model(test_X)\n",
    "predict = torch.argmax(predict, dim=1)\n",
    "print(predict[:5].to(torch.int32))\n",
    "print(torch.squeeze(test_Y[:5, :]).to(torch.int32))"
   ]
  },
  {
   "cell_type": "code",
   "execution_count": 9,
   "id": "0c7250e4",
   "metadata": {},
   "outputs": [
    {
     "name": "stdout",
     "output_type": "stream",
     "text": [
      "ACC: 0.9703%\n"
     ]
    }
   ],
   "source": [
    "correct = 0\n",
    "for i in range(len(test_X)):\n",
    "  if predict[i].to(torch.int32) == torch.squeeze(test_Y[:, :]).to(torch.int32)[i]:\n",
    "    correct += 1\n",
    "\n",
    "print(\"ACC: {0}%\".format(correct/len(test_X)))"
   ]
  },
  {
   "cell_type": "code",
   "execution_count": null,
   "id": "2a506acc",
   "metadata": {},
   "outputs": [],
   "source": []
  }
 ],
 "metadata": {
  "kernelspec": {
   "display_name": "Python 3 (ipykernel)",
   "language": "python",
   "name": "python3"
  },
  "language_info": {
   "codemirror_mode": {
    "name": "ipython",
    "version": 3
   },
   "file_extension": ".py",
   "mimetype": "text/x-python",
   "name": "python",
   "nbconvert_exporter": "python",
   "pygments_lexer": "ipython3",
   "version": "3.11.4"
  }
 },
 "nbformat": 4,
 "nbformat_minor": 5
}
