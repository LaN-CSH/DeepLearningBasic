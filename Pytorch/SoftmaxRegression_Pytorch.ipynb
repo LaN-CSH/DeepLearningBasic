{
 "cells": [
  {
   "cell_type": "code",
   "execution_count": 1,
   "id": "b595a343",
   "metadata": {},
   "outputs": [],
   "source": [
    "# 토치 식구들\n",
    "import torch\n",
    "import torch.nn as nn\n",
    "import torch.nn.functional as F\n",
    "\n",
    "# 넘파이는 가족이다\n",
    "import numpy as np\n",
    "\n",
    "# 각종 그래프 찍어볼 때 사용할 것이다.\n",
    "import matplotlib.pyplot as plt\n",
    "\n",
    "# GPU 쓸 수 있으면 쓰자\n",
    "device = torch.device('cuda' if torch.cuda.is_available()==True else 'cpu')"
   ]
  },
  {
   "cell_type": "code",
   "execution_count": 2,
   "id": "12863883",
   "metadata": {},
   "outputs": [
    {
     "name": "stdout",
     "output_type": "stream",
     "text": [
      "(101, 17)\n"
     ]
    }
   ],
   "source": [
    "# data-04-zoo.csv 데이터셋을 이용할 것이다.\n",
    "zoo = np.loadtxt('data-04-zoo.csv', delimiter=',')\n",
    "\n",
    "print(zoo.shape) # (101, 17), 마지막 column은 0~6 중 어느 분류인지 표시 되어있다"
   ]
  },
  {
   "cell_type": "code",
   "execution_count": 3,
   "id": "f201bb4b",
   "metadata": {},
   "outputs": [],
   "source": [
    "# Softmax 모델을 만들어보자\n",
    "class Softmax_Model(nn.Module):\n",
    "\n",
    "    def __init__(self):\n",
    "        super(Softmax_Model, self).__init__()\n",
    "\n",
    "        self.layer1 = nn.Sequential(\n",
    "            nn.Linear(16, 7),\n",
    "            nn.Softmax()\n",
    "        )\n",
    "    \n",
    "    def forward(self, x):\n",
    "        out = self.layer1(x)\n",
    "        return out\n"
   ]
  },
  {
   "cell_type": "code",
   "execution_count": 4,
   "id": "e43654d4",
   "metadata": {},
   "outputs": [
    {
     "name": "stdout",
     "output_type": "stream",
     "text": [
      "(91, 16) (91, 1)\n"
     ]
    }
   ],
   "source": [
    "# 데이터의 label을 one-hot vector로 만들자\n",
    "x = zoo[:-10, :-1]\n",
    "y = zoo[:-10, -1:]\n",
    "\n",
    "print(x.shape, y.shape) # (101, 16) (101, 1)\n",
    "\n",
    "one_hot_y = np.zeros((len(y), int(y.max()+1)))\n",
    "for num in range(len(y)):\n",
    "    one_hot_y[num, int(y[num, 0])] = 1\n",
    "\n",
    "# 이제부터 이 one hot y는 우리의 y가 됩니다.\n",
    "y = one_hot_y\n",
    "\n",
    "# 이 데이터들을 이제 torchtensor로 변환할 것입니다.\n",
    "X_train = torch.Tensor(x).to(device)\n",
    "Y_train = torch.Tensor(y).to(device)\n"
   ]
  },
  {
   "cell_type": "code",
   "execution_count": 5,
   "id": "9102d224",
   "metadata": {},
   "outputs": [],
   "source": [
    "# 모델 정의 후 gpu에 할당\n",
    "model = Softmax_Model().to(device)"
   ]
  },
  {
   "cell_type": "code",
   "execution_count": 6,
   "id": "c9e5f409",
   "metadata": {},
   "outputs": [
    {
     "name": "stderr",
     "output_type": "stream",
     "text": [
      "C:\\Users\\danie\\anaconda3\\envs\\csh\\Lib\\site-packages\\torch\\nn\\modules\\container.py:217: UserWarning: Implicit dimension choice for softmax has been deprecated. Change the call to include dim=X as an argument.\n",
      "  input = module(input)\n"
     ]
    },
    {
     "name": "stdout",
     "output_type": "stream",
     "text": [
      "Epoch: 100 1.7175\n",
      "Epoch: 200 1.5679\n",
      "Epoch: 300 1.4844\n",
      "Epoch: 400 1.4401\n",
      "Epoch: 500 1.4139\n",
      "Epoch: 600 1.3963\n",
      "Epoch: 700 1.3825\n",
      "Epoch: 800 1.3701\n",
      "Epoch: 900 1.3587\n",
      "Epoch: 1000 1.3342\n"
     ]
    }
   ],
   "source": [
    "# Loss 함수 정의 및 Optimzer 정의\n",
    "criterion = nn.CrossEntropyLoss()\n",
    "\n",
    "optimizer = torch.optim.Adam(model.parameters(), lr=0.001)\n",
    "\n",
    "for i in range(1000):\n",
    "    \n",
    "    X_out = model(X_train)\n",
    "    cost = criterion(X_out, Y_train)\n",
    "\n",
    "    optimizer.zero_grad()\n",
    "    cost.backward()\n",
    "    optimizer.step()\n",
    "\n",
    "    if i % 100 == 99:\n",
    "        print(\"Epoch:\", i+1, '{:.4f}'.format(cost.item()))\n"
   ]
  },
  {
   "cell_type": "code",
   "execution_count": 7,
   "id": "cb235e1e",
   "metadata": {},
   "outputs": [
    {
     "name": "stdout",
     "output_type": "stream",
     "text": [
      "[0 3 0 0 1 0 5 0 6 1]\n",
      "[[2.]\n",
      " [3.]\n",
      " [0.]\n",
      " [0.]\n",
      " [1.]\n",
      " [0.]\n",
      " [5.]\n",
      " [0.]\n",
      " [6.]\n",
      " [1.]]\n",
      "Acc. : 0.90%\n"
     ]
    }
   ],
   "source": [
    "x_test = zoo[-10:, :-1]\n",
    "y_test = zoo[-10:, -1:]\n",
    "\n",
    "\n",
    "X_test_ = torch.Tensor(x_test).to(device)\n",
    "Y_test_ = torch.Tensor(y_test).to(device)\n",
    "\n",
    "X_test_result = np.argmax(model(X_test_).detach().cpu().numpy(), axis=1)\n",
    "Y_test_result = Y_test_.detach().cpu().numpy()\n",
    "\n",
    "print(X_test_result)\n",
    "print(Y_test_result)\n",
    "\n",
    "count = 0\n",
    "for i in range(len(X_test_result)):\n",
    "    if X_test_result[i] == Y_test_result[i]:\n",
    "        count += 1\n",
    "\n",
    "print(\"Acc. : {:.2f}%\".format(count/len(X_test_result)))"
   ]
  },
  {
   "cell_type": "code",
   "execution_count": null,
   "id": "11299052",
   "metadata": {},
   "outputs": [],
   "source": []
  }
 ],
 "metadata": {
  "kernelspec": {
   "display_name": "Python 3 (ipykernel)",
   "language": "python",
   "name": "python3"
  },
  "language_info": {
   "codemirror_mode": {
    "name": "ipython",
    "version": 3
   },
   "file_extension": ".py",
   "mimetype": "text/x-python",
   "name": "python",
   "nbconvert_exporter": "python",
   "pygments_lexer": "ipython3",
   "version": "3.11.4"
  }
 },
 "nbformat": 4,
 "nbformat_minor": 5
}
