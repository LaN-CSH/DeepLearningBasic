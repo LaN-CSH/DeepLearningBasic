{
 "cells": [
  {
   "cell_type": "code",
   "execution_count": 1,
   "id": "cf22d99e",
   "metadata": {},
   "outputs": [
    {
     "name": "stdout",
     "output_type": "stream",
     "text": [
      "TensorFlow version: 2.13.0\n"
     ]
    }
   ],
   "source": [
    "# Tensorflow\n",
    "import tensorflow as tf\n",
    "print(\"TensorFlow version:\", tf.__version__)"
   ]
  },
  {
   "cell_type": "code",
   "execution_count": 2,
   "id": "1c8303d7",
   "metadata": {},
   "outputs": [],
   "source": [
    "# Linear(1, 1)인 모델 구성, bias는 일부러 y=Wx를 근사하기 위해 Fasle\n",
    "model = tf.keras.models.Sequential([\n",
    "  tf.keras.layers.Dense(1, use_bias=False),\n",
    "])\n",
    "sgd = tf.keras.optimizers.SGD(learning_rate=0.00003)\n",
    "model.compile(optimizer=sgd,\n",
    "              loss='MSE',\n",
    "              )"
   ]
  },
  {
   "cell_type": "code",
   "execution_count": 3,
   "id": "94ebb076",
   "metadata": {},
   "outputs": [],
   "source": [
    "# 데이터 정의\n",
    "X = tf.constant([100, 125, 150, 190, 206])\n",
    "Y = tf.constant([105, 122, 155, 176, 207])"
   ]
  },
  {
   "cell_type": "code",
   "execution_count": 4,
   "id": "b3edc941",
   "metadata": {},
   "outputs": [
    {
     "name": "stdout",
     "output_type": "stream",
     "text": [
      "Model: \"sequential\"\n",
      "_________________________________________________________________\n",
      " Layer (type)                Output Shape              Param #   \n",
      "=================================================================\n",
      " dense (Dense)               (None, 1)                 1         \n",
      "                                                                 \n",
      "=================================================================\n",
      "Total params: 1 (4.00 Byte)\n",
      "Trainable params: 1 (4.00 Byte)\n",
      "Non-trainable params: 0 (0.00 Byte)\n",
      "_________________________________________________________________\n"
     ]
    }
   ],
   "source": [
    "# (None, 1) 꼴의 데이터를 Input으로 받을 것이다.\n",
    "model.build((None, 1))\n",
    "# 모델 요약 보기\n",
    "model.summary()"
   ]
  },
  {
   "cell_type": "code",
   "execution_count": 5,
   "id": "498c0b2b",
   "metadata": {},
   "outputs": [
    {
     "name": "stdout",
     "output_type": "stream",
     "text": [
      "Epoch 1/10\n",
      "1/1 [==============================] - 0s 336ms/step - loss: 1950.2615 - val_loss: 378.2527\n",
      "Epoch 2/10\n",
      "1/1 [==============================] - 0s 37ms/step - loss: 561.6998 - val_loss: 59.8157\n",
      "Epoch 3/10\n",
      "1/1 [==============================] - 0s 35ms/step - loss: 186.3302 - val_loss: 40.9489\n",
      "Epoch 4/10\n",
      "1/1 [==============================] - 0s 36ms/step - loss: 84.8570 - val_loss: 0.9009\n",
      "Epoch 5/10\n",
      "1/1 [==============================] - 0s 36ms/step - loss: 57.4259 - val_loss: 8.2453\n",
      "Epoch 6/10\n",
      "1/1 [==============================] - 0s 35ms/step - loss: 50.0105 - val_loss: 0.7832\n",
      "Epoch 7/10\n",
      "1/1 [==============================] - 0s 36ms/step - loss: 48.0059 - val_loss: 3.6780\n",
      "Epoch 8/10\n",
      "1/1 [==============================] - 0s 35ms/step - loss: 47.4639 - val_loss: 1.9067\n",
      "Epoch 9/10\n",
      "1/1 [==============================] - 0s 36ms/step - loss: 47.3174 - val_loss: 2.7557\n",
      "Epoch 10/10\n",
      "1/1 [==============================] - 0s 36ms/step - loss: 47.2778 - val_loss: 2.2948\n"
     ]
    },
    {
     "data": {
      "text/plain": [
       "<keras.src.callbacks.History at 0x1f5f2d13ed0>"
      ]
     },
     "execution_count": 5,
     "metadata": {},
     "output_type": "execute_result"
    }
   ],
   "source": [
    "# validation data도 넣어줘서 학습 해보자\n",
    "X_val = tf.constant([110, 120, 130, 140])\n",
    "Y_val = tf.constant([110, 120, 130, 140])\n",
    "model.fit(X, Y, epochs=10, validation_data=(X_val, Y_val))"
   ]
  },
  {
   "cell_type": "code",
   "execution_count": 6,
   "id": "f8233f84",
   "metadata": {},
   "outputs": [
    {
     "name": "stdout",
     "output_type": "stream",
     "text": [
      "tf.Tensor(\n",
      "[[ 98.79294 ]\n",
      " [123.491165]\n",
      " [148.1894  ]\n",
      " [187.70657 ]\n",
      " [203.51344 ]], shape=(5, 1), dtype=float32)\n"
     ]
    }
   ],
   "source": [
    "print(model(X))\n",
    "# Y = tf.constant([105, 122, 155, 176, 207])"
   ]
  },
  {
   "cell_type": "code",
   "execution_count": null,
   "id": "078ea306",
   "metadata": {},
   "outputs": [],
   "source": []
  }
 ],
 "metadata": {
  "kernelspec": {
   "display_name": "Python 3 (ipykernel)",
   "language": "python",
   "name": "python3"
  },
  "language_info": {
   "codemirror_mode": {
    "name": "ipython",
    "version": 3
   },
   "file_extension": ".py",
   "mimetype": "text/x-python",
   "name": "python",
   "nbconvert_exporter": "python",
   "pygments_lexer": "ipython3",
   "version": "3.11.4"
  }
 },
 "nbformat": 4,
 "nbformat_minor": 5
}
